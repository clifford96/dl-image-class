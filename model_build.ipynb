{
 "cells": [
  {
   "cell_type": "markdown",
   "id": "de078e44-4227-4a24-8f58-cb29c788bd00",
   "metadata": {},
   "source": [
    "Importing necessary libraries"
   ]
  },
  {
   "cell_type": "code",
   "execution_count": 1,
   "id": "130d41a4-190f-46bf-a752-b37ee26d06aa",
   "metadata": {
    "tags": []
   },
   "outputs": [],
   "source": [
    "import numpy as np\n",
    "import pandas as pd\n",
    "\n",
    "import cv2\n",
    "import imghdr\n",
    "\n",
    "from sklearn.model_selection import train_test_split\n",
    "from sklearn.preprocessing import LabelEncoder\n",
    "from sklearn.utils import shuffle\n",
    "\n",
    "import tensorflow as tf\n",
    "from keras.models import Sequential\n",
    "from keras.preprocessing.image import ImageDataGenerator\n",
    "from keras.layers import Dense, Flatten, GlobalAveragePooling2D, Conv2D, MaxPooling2D, Dropout\n",
    "from keras.callbacks import ModelCheckpoint, EarlyStopping\n",
    "from keras import regularizers\n",
    "\n",
    "from PIL import Image\n",
    "\n",
    "import os\n",
    "import random\n",
    "\n",
    "from tqdm.notebook import tqdm"
   ]
  },
  {
   "cell_type": "markdown",
   "id": "015ba19f-6c30-4efe-a728-8ea802ecf90e",
   "metadata": {},
   "source": [
    "Defining the variable for data_dir. With this code, variable data_dir is assigned to a string named 'data3'. 'data3' is the directory path of the image dataset that will be used in this model."
   ]
  },
  {
   "cell_type": "code",
   "execution_count": 2,
   "id": "6c1c992b-04d2-43ed-9699-c57fad4a346a",
   "metadata": {
    "tags": []
   },
   "outputs": [],
   "source": [
    "data_dir = 'data3'"
   ]
  },
  {
   "cell_type": "markdown",
   "id": "2d5ba58c-589b-4215-ae1f-15cd2fed88a6",
   "metadata": {},
   "source": [
    "Defining the variable for img_class. A list of strings as shown below is assigned to the variable img_class. This is to store the various image classes that can be found in the image dataset. There are a total of 13 classes."
   ]
  },
  {
   "cell_type": "code",
   "execution_count": 3,
   "id": "001e3f4e-933d-4714-9481-0e4195c4cddc",
   "metadata": {
    "tags": []
   },
   "outputs": [],
   "source": [
    "img_class = ['analogue', 'digital', 'smart', 'headphone', 'tws', 'neckband', 'gaming', 'windows', 'mac', '2in1', 'loafers', 'sneakers', 'sports']"
   ]
  },
  {
   "cell_type": "markdown",
   "id": "dee18edd-3092-4c82-8c54-816720bac7ef",
   "metadata": {},
   "source": [
    "Looping through the images in each file. Resizes the images and assigning labels to each image based on the classes assigned in 'img_class'. Stores the newly resized images and its label into the 'data' list."
   ]
  },
  {
   "cell_type": "code",
   "execution_count": 4,
   "id": "7113cd26-58dc-4ec7-bfa0-779ded174f0c",
   "metadata": {
    "tags": []
   },
   "outputs": [
    {
     "data": {
      "application/vnd.jupyter.widget-view+json": {
       "model_id": "03b2108ef6854a59addad7164c12c010",
       "version_major": 2,
       "version_minor": 0
      },
      "text/plain": [
       "  0%|          | 0/13 [00:00<?, ?it/s]"
      ]
     },
     "metadata": {},
     "output_type": "display_data"
    }
   ],
   "source": [
    "data = []\n",
    "\n",
    "for classes in tqdm(img_class):\n",
    "    directory = os.path.join(data_dir, classes)\n",
    "    for image in os.listdir(directory):\n",
    "        img_dir = os.path.join(directory, image)\n",
    "        labels = img_class.index(classes)\n",
    "        array = cv2.imread(img_dir)#, cv2.IMREAD_GRAYSCALE)\n",
    "        new_array = cv2.resize(array, (150,150))\n",
    "        data.append([new_array, labels])"
   ]
  },
  {
   "cell_type": "markdown",
   "id": "cdcac631-9b5e-4e02-986e-38a6a211e79c",
   "metadata": {},
   "source": [
    "Since the total number of images to be used in this model is only 904 images belonging to 13 different classes, albumentation is used to increase the total number to 27120"
   ]
  },
  {
   "cell_type": "code",
   "execution_count": 5,
   "id": "740087cf-8bd1-4ae9-87e0-3c743a70deac",
   "metadata": {
    "tags": []
   },
   "outputs": [],
   "source": [
    "import albumentations as alb\n",
    "\n",
    "augmentor = alb.Compose([alb.RandomGamma(p = 0.2), \n",
    "                         alb.RandomCrop(width = 150, height = 150), \n",
    "                         alb.RandomGamma(p = 0.2), \n",
    "                         alb.RandomBrightnessContrast(p = 0.2),\n",
    "                         alb.RGBShift(p = 0.2),\n",
    "                         alb.HorizontalFlip(p = 0.5), \n",
    "                         alb.VerticalFlip(p = 0.5)])\n",
    "\n",
    "def augmentation(image):\n",
    "    aug = augmentor(image=image)\n",
    "    aug_img = aug['image']\n",
    "    return aug_img\n",
    "\n",
    "aug_data = []\n",
    "for x in range(30):\n",
    "    for new_array, labels in data:\n",
    "        aug_img = augmentation(new_array)\n",
    "        aug_data.append([aug_img, labels])"
   ]
  },
  {
   "cell_type": "code",
   "execution_count": 6,
   "id": "ef95332d-d7f5-44e2-84e2-bc6d68e21ce1",
   "metadata": {
    "tags": []
   },
   "outputs": [],
   "source": [
    "random.shuffle(aug_data)\n",
    "\n",
    "X = []\n",
    "y = []\n",
    "\n",
    "for feature, labels in aug_data:\n",
    "    X.append(feature)\n",
    "    y.append(labels)\n",
    "\n",
    "X = np.array(X)\n",
    "y = np.array(y)"
   ]
  },
  {
   "cell_type": "code",
   "execution_count": 7,
   "id": "ccae20f7-eb90-4675-93ce-313633652772",
   "metadata": {
    "tags": []
   },
   "outputs": [
    {
     "data": {
      "text/plain": [
       "(27120, 150, 150, 3)"
      ]
     },
     "execution_count": 7,
     "metadata": {},
     "output_type": "execute_result"
    }
   ],
   "source": [
    "X = X/255\n",
    "X = X.reshape(-1, 150, 150, 3)\n",
    "X.shape"
   ]
  },
  {
   "cell_type": "markdown",
   "id": "e60ea5b8-a3ab-4d39-ad9e-d6476ec80eb1",
   "metadata": {},
   "source": [
    "Using ImageDataGenerator to further improve on the data augmentation"
   ]
  },
  {
   "cell_type": "code",
   "execution_count": 8,
   "id": "518cd9c0-e917-43aa-ab97-6276b45124a6",
   "metadata": {
    "tags": []
   },
   "outputs": [],
   "source": [
    "datagen = tf.keras.preprocessing.image.ImageDataGenerator(\n",
    "                             horizontal_flip = True,\n",
    "                             vertical_flip = True,\n",
    "                             rotation_range = 30,\n",
    "                             zoom_range = 0.15,\n",
    "                             width_shift_range = 0.2,\n",
    "                             height_shift_range = 0.2,\n",
    "                             shear_range = 0.15,\n",
    "                             fill_mode = \"nearest\")\n",
    "\n",
    "testgen = ImageDataGenerator()"
   ]
  },
  {
   "cell_type": "code",
   "execution_count": 9,
   "id": "b39d3209-b492-48d5-9bde-3eb9fecbd3a3",
   "metadata": {
    "tags": []
   },
   "outputs": [
    {
     "name": "stdout",
     "output_type": "stream",
     "text": [
      "[ 1  7  2 ...  2 10  1]\n"
     ]
    }
   ],
   "source": [
    "print(y)"
   ]
  },
  {
   "cell_type": "markdown",
   "id": "e9b1e285-b2ef-45be-8bc5-5bf42e18fecc",
   "metadata": {},
   "source": [
    "Splitting the dataset to train and test set"
   ]
  },
  {
   "cell_type": "code",
   "execution_count": 12,
   "id": "d530bc66-9f25-4415-9517-0dc05ae5a191",
   "metadata": {
    "tags": []
   },
   "outputs": [],
   "source": [
    "X_train, X_test, y_train, y_test = train_test_split(X,\n",
    "                                                    y,\n",
    "                                                    test_size=0.3,\n",
    "                                                    stratify=y)"
   ]
  },
  {
   "cell_type": "code",
   "execution_count": 13,
   "id": "6f298c02-683f-483c-8919-fd80fcb7cc3f",
   "metadata": {
    "tags": []
   },
   "outputs": [
    {
     "name": "stdout",
     "output_type": "stream",
     "text": [
      "x_train shape (18984, 150, 150, 3)\n",
      "y_train shape (18984,)\n",
      "x_test shape (8136, 150, 150, 3)\n",
      "y_test shape (8136,)\n"
     ]
    }
   ],
   "source": [
    "print(\"x_train shape\", X_train.shape)\n",
    "print(\"y_train shape\", y_train.shape)\n",
    "print(\"x_test shape\", X_test.shape)\n",
    "print(\"y_test shape\", y_test.shape)"
   ]
  },
  {
   "cell_type": "code",
   "execution_count": 14,
   "id": "169db0c6-281e-457e-a79d-75ad75e4bcad",
   "metadata": {
    "tags": []
   },
   "outputs": [
    {
     "name": "stdout",
     "output_type": "stream",
     "text": [
      "13\n"
     ]
    }
   ],
   "source": [
    "nb = len(np.unique(y_train))\n",
    "print(nb)"
   ]
  },
  {
   "cell_type": "code",
   "execution_count": 15,
   "id": "3596b907-e0b8-4c49-8a45-ea38f7a13f41",
   "metadata": {
    "tags": []
   },
   "outputs": [],
   "source": [
    "y_train = tf.keras.utils.to_categorical(y_train, nb)\n",
    "y_test = tf.keras.utils.to_categorical(y_test, nb)"
   ]
  },
  {
   "cell_type": "code",
   "execution_count": 16,
   "id": "64e64ef1-1f69-4fbc-bf07-f571e1873623",
   "metadata": {
    "tags": []
   },
   "outputs": [
    {
     "name": "stdout",
     "output_type": "stream",
     "text": [
      "y_train shape (18984, 13)\n",
      "y_test shape (8136, 13)\n"
     ]
    }
   ],
   "source": [
    "print(\"y_train shape\", y_train.shape)\n",
    "print(\"y_test shape\", y_test.shape)"
   ]
  },
  {
   "cell_type": "markdown",
   "id": "8d7e4d10-90e2-4735-adcf-1552e1ff7941",
   "metadata": {},
   "source": [
    "CNN model building"
   ]
  },
  {
   "cell_type": "code",
   "execution_count": 17,
   "id": "5a6bc5c1-b8c4-4a98-a254-f071636e1a9d",
   "metadata": {
    "tags": []
   },
   "outputs": [],
   "source": [
    "model = Sequential()\n",
    "\n",
    "model.add(Conv2D(32, (4,4), input_shape = (150, 150, 3), activation = 'relu', padding = 'same'))\n",
    "model.add(MaxPooling2D(2, 2))\n",
    "\n",
    "model.add(Conv2D(64, (4,4), input_shape = (150, 150, 3), activation = 'relu', padding = 'same'))\n",
    "model.add(MaxPooling2D(2, 2))\n",
    "\n",
    "model.add(Conv2D(64, (4,4), input_shape = (150, 150, 3), activation = 'relu', padding = 'same'))\n",
    "model.add(MaxPooling2D(2, 2))\n",
    "\n",
    "model.add(Conv2D(64, (4,4), input_shape = (150, 150, 3), activation = 'relu', padding = 'same'))\n",
    "model.add(MaxPooling2D(2, 2))\n",
    "\n",
    "model.add(Conv2D(64, (4,4), input_shape = (150, 150, 3), activation = 'relu', padding = 'same'))\n",
    "model.add(MaxPooling2D(2, 2))\n",
    "\n",
    "#model.add(Conv2D(64, (4,4), input_shape = (150, 150, 3), activation = 'relu', padding = 'same'))\n",
    "#model.add(MaxPooling2D(2, 2))\n",
    "\n",
    "model.add(Flatten())\n",
    "\n",
    "model.add(Dense(256, activation = 'relu'))\n",
    "model.add(Dropout(0.5))\n",
    "\n",
    "model.add(Dense(nb, activation = 'softmax'))"
   ]
  },
  {
   "cell_type": "code",
   "execution_count": 18,
   "id": "a0335356-bb6b-459d-8ea6-7f1ee0bebeda",
   "metadata": {
    "tags": []
   },
   "outputs": [
    {
     "name": "stdout",
     "output_type": "stream",
     "text": [
      "Model: \"sequential\"\n",
      "_________________________________________________________________\n",
      " Layer (type)                Output Shape              Param #   \n",
      "=================================================================\n",
      " conv2d (Conv2D)             (None, 150, 150, 32)      1568      \n",
      "                                                                 \n",
      " max_pooling2d (MaxPooling2D  (None, 75, 75, 32)       0         \n",
      " )                                                               \n",
      "                                                                 \n",
      " conv2d_1 (Conv2D)           (None, 75, 75, 64)        32832     \n",
      "                                                                 \n",
      " max_pooling2d_1 (MaxPooling  (None, 37, 37, 64)       0         \n",
      " 2D)                                                             \n",
      "                                                                 \n",
      " conv2d_2 (Conv2D)           (None, 37, 37, 64)        65600     \n",
      "                                                                 \n",
      " max_pooling2d_2 (MaxPooling  (None, 18, 18, 64)       0         \n",
      " 2D)                                                             \n",
      "                                                                 \n",
      " conv2d_3 (Conv2D)           (None, 18, 18, 64)        65600     \n",
      "                                                                 \n",
      " max_pooling2d_3 (MaxPooling  (None, 9, 9, 64)         0         \n",
      " 2D)                                                             \n",
      "                                                                 \n",
      " conv2d_4 (Conv2D)           (None, 9, 9, 64)          65600     \n",
      "                                                                 \n",
      " max_pooling2d_4 (MaxPooling  (None, 4, 4, 64)         0         \n",
      " 2D)                                                             \n",
      "                                                                 \n",
      " flatten (Flatten)           (None, 1024)              0         \n",
      "                                                                 \n",
      " dense (Dense)               (None, 256)               262400    \n",
      "                                                                 \n",
      " dropout (Dropout)           (None, 256)               0         \n",
      "                                                                 \n",
      " dense_1 (Dense)             (None, 13)                3341      \n",
      "                                                                 \n",
      "=================================================================\n",
      "Total params: 496,941\n",
      "Trainable params: 496,941\n",
      "Non-trainable params: 0\n",
      "_________________________________________________________________\n"
     ]
    }
   ],
   "source": [
    "model.summary()"
   ]
  },
  {
   "cell_type": "code",
   "execution_count": 19,
   "id": "9fd33b57-388d-43b1-9fc1-6e4a5549ee7d",
   "metadata": {
    "tags": []
   },
   "outputs": [],
   "source": [
    "model.compile(loss = 'categorical_crossentropy',\n",
    "              metrics = ['accuracy'],\n",
    "              optimizer = 'adam')"
   ]
  },
  {
   "cell_type": "code",
   "execution_count": 20,
   "id": "6a464cbd-c0b9-463a-80d9-29a319444f49",
   "metadata": {
    "tags": []
   },
   "outputs": [],
   "source": [
    "filepath= \"model4.h5\"\n",
    "\n",
    "checkpoint = ModelCheckpoint(filepath,\n",
    "                             monitor = 'val_accuracy',\n",
    "                             verbose = 1,\n",
    "                             save_best_only = True,\n",
    "                             mode = 'max',\n",
    "                             save_weights_only = False)\n",
    "\n",
    "early_stopping = EarlyStopping(monitor = 'val_loss',\n",
    "                               min_delta = 0, patience = 5,\n",
    "                               verbose = 1,\n",
    "                               restore_best_weights = True)\n",
    "\n",
    "learning_rate_reduction = tf.keras.callbacks.ReduceLROnPlateau(\n",
    "                                            monitor='val_loss', \n",
    "                                            patience=3, \n",
    "                                            verbose=1, \n",
    "                                            factor=0.2, \n",
    "                                            min_lr=0.00001)\n",
    "\n",
    "callbacks_list = [\n",
    "        checkpoint,\n",
    "        early_stopping,\n",
    "        learning_rate_reduction\n",
    "    ]"
   ]
  },
  {
   "cell_type": "code",
   "execution_count": 21,
   "id": "94733148-577d-430e-a331-79291d7b758d",
   "metadata": {
    "tags": []
   },
   "outputs": [
    {
     "name": "stdout",
     "output_type": "stream",
     "text": [
      "Epoch 1/100\n",
      "149/149 [==============================] - ETA: 0s - loss: 2.3888 - accuracy: 0.1681\n",
      "Epoch 1: val_accuracy improved from -inf to 0.30678, saving model to model4.h5\n",
      "149/149 [==============================] - 478s 3s/step - loss: 2.3888 - accuracy: 0.1681 - val_loss: 2.1016 - val_accuracy: 0.3068 - lr: 0.0010\n",
      "Epoch 2/100\n",
      "149/149 [==============================] - ETA: 0s - loss: 1.9564 - accuracy: 0.3313\n",
      "Epoch 2: val_accuracy improved from 0.30678 to 0.39860, saving model to model4.h5\n",
      "149/149 [==============================] - 375s 3s/step - loss: 1.9564 - accuracy: 0.3313 - val_loss: 1.9115 - val_accuracy: 0.3986 - lr: 0.0010\n",
      "Epoch 3/100\n",
      "149/149 [==============================] - ETA: 0s - loss: 1.5987 - accuracy: 0.4526\n",
      "Epoch 3: val_accuracy improved from 0.39860 to 0.54794, saving model to model4.h5\n",
      "149/149 [==============================] - 372s 2s/step - loss: 1.5987 - accuracy: 0.4526 - val_loss: 1.3165 - val_accuracy: 0.5479 - lr: 0.0010\n",
      "Epoch 4/100\n",
      "149/149 [==============================] - ETA: 0s - loss: 1.3567 - accuracy: 0.5366\n",
      "Epoch 4: val_accuracy improved from 0.54794 to 0.65880, saving model to model4.h5\n",
      "149/149 [==============================] - 376s 3s/step - loss: 1.3567 - accuracy: 0.5366 - val_loss: 0.9652 - val_accuracy: 0.6588 - lr: 0.0010\n",
      "Epoch 5/100\n",
      "149/149 [==============================] - ETA: 0s - loss: 1.1581 - accuracy: 0.6007\n",
      "Epoch 5: val_accuracy did not improve from 0.65880\n",
      "149/149 [==============================] - 378s 3s/step - loss: 1.1581 - accuracy: 0.6007 - val_loss: 1.0830 - val_accuracy: 0.6347 - lr: 0.0010\n",
      "Epoch 6/100\n",
      "149/149 [==============================] - ETA: 0s - loss: 0.9868 - accuracy: 0.6563\n",
      "Epoch 6: val_accuracy improved from 0.65880 to 0.72407, saving model to model4.h5\n",
      "149/149 [==============================] - 379s 3s/step - loss: 0.9868 - accuracy: 0.6563 - val_loss: 0.7991 - val_accuracy: 0.7241 - lr: 0.0010\n",
      "Epoch 7/100\n",
      "149/149 [==============================] - ETA: 0s - loss: 0.8744 - accuracy: 0.6992\n",
      "Epoch 7: val_accuracy improved from 0.72407 to 0.81576, saving model to model4.h5\n",
      "149/149 [==============================] - 375s 3s/step - loss: 0.8744 - accuracy: 0.6992 - val_loss: 0.5112 - val_accuracy: 0.8158 - lr: 0.0010\n",
      "Epoch 8/100\n",
      "149/149 [==============================] - ETA: 0s - loss: 0.7619 - accuracy: 0.7381\n",
      "Epoch 8: val_accuracy did not improve from 0.81576\n",
      "149/149 [==============================] - 372s 2s/step - loss: 0.7619 - accuracy: 0.7381 - val_loss: 0.6820 - val_accuracy: 0.7732 - lr: 0.0010\n",
      "Epoch 9/100\n",
      "149/149 [==============================] - ETA: 0s - loss: 0.6575 - accuracy: 0.7752\n",
      "Epoch 9: val_accuracy improved from 0.81576 to 0.82719, saving model to model4.h5\n",
      "149/149 [==============================] - 378s 3s/step - loss: 0.6575 - accuracy: 0.7752 - val_loss: 0.5157 - val_accuracy: 0.8272 - lr: 0.0010\n",
      "Epoch 10/100\n",
      "149/149 [==============================] - ETA: 0s - loss: 0.5937 - accuracy: 0.7959\n",
      "Epoch 10: val_accuracy improved from 0.82719 to 0.87537, saving model to model4.h5\n",
      "149/149 [==============================] - 372s 2s/step - loss: 0.5937 - accuracy: 0.7959 - val_loss: 0.3995 - val_accuracy: 0.8754 - lr: 0.0010\n",
      "Epoch 11/100\n",
      "149/149 [==============================] - ETA: 0s - loss: 0.5022 - accuracy: 0.8256\n",
      "Epoch 11: val_accuracy improved from 0.87537 to 0.87697, saving model to model4.h5\n",
      "149/149 [==============================] - 381s 3s/step - loss: 0.5022 - accuracy: 0.8256 - val_loss: 0.3758 - val_accuracy: 0.8770 - lr: 0.0010\n",
      "Epoch 12/100\n",
      "149/149 [==============================] - ETA: 0s - loss: 0.4897 - accuracy: 0.8353\n",
      "Epoch 12: val_accuracy did not improve from 0.87697\n",
      "149/149 [==============================] - 378s 3s/step - loss: 0.4897 - accuracy: 0.8353 - val_loss: 0.6320 - val_accuracy: 0.8194 - lr: 0.0010\n",
      "Epoch 13/100\n",
      "149/149 [==============================] - ETA: 0s - loss: 0.4160 - accuracy: 0.8590\n",
      "Epoch 13: val_accuracy improved from 0.87697 to 0.89442, saving model to model4.h5\n",
      "149/149 [==============================] - 374s 3s/step - loss: 0.4160 - accuracy: 0.8590 - val_loss: 0.3218 - val_accuracy: 0.8944 - lr: 0.0010\n",
      "Epoch 14/100\n",
      "149/149 [==============================] - ETA: 0s - loss: 0.3941 - accuracy: 0.8645\n",
      "Epoch 14: val_accuracy did not improve from 0.89442\n",
      "149/149 [==============================] - 371s 3s/step - loss: 0.3941 - accuracy: 0.8645 - val_loss: 0.3898 - val_accuracy: 0.8671 - lr: 0.0010\n",
      "Epoch 15/100\n",
      "149/149 [==============================] - ETA: 0s - loss: 0.3785 - accuracy: 0.8726\n",
      "Epoch 15: val_accuracy improved from 0.89442 to 0.90020, saving model to model4.h5\n",
      "149/149 [==============================] - 371s 2s/step - loss: 0.3785 - accuracy: 0.8726 - val_loss: 0.3022 - val_accuracy: 0.9002 - lr: 0.0010\n",
      "Epoch 16/100\n",
      "149/149 [==============================] - ETA: 0s - loss: 0.3402 - accuracy: 0.8854\n",
      "Epoch 16: val_accuracy did not improve from 0.90020\n",
      "149/149 [==============================] - 370s 2s/step - loss: 0.3402 - accuracy: 0.8854 - val_loss: 0.5096 - val_accuracy: 0.8676 - lr: 0.0010\n",
      "Epoch 17/100\n",
      "149/149 [==============================] - ETA: 0s - loss: 0.3072 - accuracy: 0.8967\n",
      "Epoch 17: val_accuracy improved from 0.90020 to 0.95145, saving model to model4.h5\n",
      "149/149 [==============================] - 371s 2s/step - loss: 0.3072 - accuracy: 0.8967 - val_loss: 0.1630 - val_accuracy: 0.9515 - lr: 0.0010\n",
      "Epoch 18/100\n",
      "149/149 [==============================] - ETA: 0s - loss: 0.3109 - accuracy: 0.8982\n",
      "Epoch 18: val_accuracy did not improve from 0.95145\n",
      "149/149 [==============================] - 371s 2s/step - loss: 0.3109 - accuracy: 0.8982 - val_loss: 0.3325 - val_accuracy: 0.9038 - lr: 0.0010\n",
      "Epoch 19/100\n",
      "149/149 [==============================] - ETA: 0s - loss: 0.2715 - accuracy: 0.9075\n",
      "Epoch 19: val_accuracy did not improve from 0.95145\n",
      "149/149 [==============================] - 371s 2s/step - loss: 0.2715 - accuracy: 0.9075 - val_loss: 0.2184 - val_accuracy: 0.9405 - lr: 0.0010\n",
      "Epoch 20/100\n",
      "149/149 [==============================] - ETA: 0s - loss: 0.2697 - accuracy: 0.9127\n",
      "Epoch 20: val_accuracy did not improve from 0.95145\n",
      "\n",
      "Epoch 20: ReduceLROnPlateau reducing learning rate to 0.00020000000949949026.\n",
      "149/149 [==============================] - 371s 2s/step - loss: 0.2697 - accuracy: 0.9127 - val_loss: 0.2909 - val_accuracy: 0.9176 - lr: 0.0010\n",
      "Epoch 21/100\n",
      "149/149 [==============================] - ETA: 0s - loss: 0.1658 - accuracy: 0.9444\n",
      "Epoch 21: val_accuracy did not improve from 0.95145\n",
      "149/149 [==============================] - 371s 2s/step - loss: 0.1658 - accuracy: 0.9444 - val_loss: 0.1715 - val_accuracy: 0.9490 - lr: 2.0000e-04\n",
      "Epoch 22/100\n",
      "149/149 [==============================] - ETA: 0s - loss: 0.1465 - accuracy: 0.9525\n",
      "Epoch 22: val_accuracy improved from 0.95145 to 0.96128, saving model to model4.h5\n",
      "149/149 [==============================] - 371s 2s/step - loss: 0.1465 - accuracy: 0.9525 - val_loss: 0.1276 - val_accuracy: 0.9613 - lr: 2.0000e-04\n",
      "Epoch 23/100\n",
      "149/149 [==============================] - ETA: 0s - loss: 0.1350 - accuracy: 0.9556\n",
      "Epoch 23: val_accuracy did not improve from 0.96128\n",
      "149/149 [==============================] - 370s 2s/step - loss: 0.1350 - accuracy: 0.9556 - val_loss: 0.1423 - val_accuracy: 0.9588 - lr: 2.0000e-04\n",
      "Epoch 24/100\n",
      "149/149 [==============================] - ETA: 0s - loss: 0.1226 - accuracy: 0.9580\n",
      "Epoch 24: val_accuracy improved from 0.96128 to 0.97136, saving model to model4.h5\n",
      "149/149 [==============================] - 369s 2s/step - loss: 0.1226 - accuracy: 0.9580 - val_loss: 0.1050 - val_accuracy: 0.9714 - lr: 2.0000e-04\n",
      "Epoch 25/100\n",
      "149/149 [==============================] - ETA: 0s - loss: 0.1264 - accuracy: 0.9576\n",
      "Epoch 25: val_accuracy did not improve from 0.97136\n",
      "149/149 [==============================] - 369s 2s/step - loss: 0.1264 - accuracy: 0.9576 - val_loss: 0.1541 - val_accuracy: 0.9571 - lr: 2.0000e-04\n",
      "Epoch 26/100\n",
      "149/149 [==============================] - ETA: 0s - loss: 0.1244 - accuracy: 0.9601\n",
      "Epoch 26: val_accuracy did not improve from 0.97136\n",
      "149/149 [==============================] - 369s 2s/step - loss: 0.1244 - accuracy: 0.9601 - val_loss: 0.1090 - val_accuracy: 0.9688 - lr: 2.0000e-04\n",
      "Epoch 27/100\n",
      "149/149 [==============================] - ETA: 0s - loss: 0.1138 - accuracy: 0.9620\n",
      "Epoch 27: val_accuracy did not improve from 0.97136\n",
      "\n",
      "Epoch 27: ReduceLROnPlateau reducing learning rate to 4.0000001899898055e-05.\n",
      "149/149 [==============================] - 369s 2s/step - loss: 0.1138 - accuracy: 0.9620 - val_loss: 0.1174 - val_accuracy: 0.9637 - lr: 2.0000e-04\n",
      "Epoch 28/100\n",
      "149/149 [==============================] - ETA: 0s - loss: 0.1077 - accuracy: 0.9635\n",
      "Epoch 28: val_accuracy did not improve from 0.97136\n",
      "149/149 [==============================] - 368s 2s/step - loss: 0.1077 - accuracy: 0.9635 - val_loss: 0.1214 - val_accuracy: 0.9677 - lr: 4.0000e-05\n",
      "Epoch 29/100\n",
      "149/149 [==============================] - ETA: 0s - loss: 0.1010 - accuracy: 0.9659\n",
      "Epoch 29: val_accuracy did not improve from 0.97136\n",
      "Restoring model weights from the end of the best epoch: 24.\n",
      "149/149 [==============================] - 369s 2s/step - loss: 0.1010 - accuracy: 0.9659 - val_loss: 0.1260 - val_accuracy: 0.9651 - lr: 4.0000e-05\n",
      "Epoch 29: early stopping\n"
     ]
    }
   ],
   "source": [
    "hist = model.fit(datagen.flow(X_train, y_train, batch_size = 128),\n",
    "                 validation_data = testgen.flow(X_test, y_test, batch_size = 128),\n",
    "                 epochs = 100,\n",
    "                 callbacks = callbacks_list)"
   ]
  },
  {
   "cell_type": "code",
   "execution_count": 22,
   "id": "4fd5942b-f2bb-4b6c-b3bb-0f7d8bf67219",
   "metadata": {
    "tags": []
   },
   "outputs": [
    {
     "data": {
      "image/png": "[encoded data removed]",
      "text/plain": [
       "<Figure size 640x480 with 1 Axes>"
      ]
     },
     "metadata": {},
     "output_type": "display_data"
    },
    {
     "data": {
      "image/png": "[encoded data removed]",
      "text/plain": [
       "<Figure size 640x480 with 1 Axes>"
      ]
     },
     "metadata": {},
     "output_type": "display_data"
    }
   ],
   "source": [
    "import matplotlib.pyplot as plt\n",
    "\n",
    "acc = hist.history['accuracy']\n",
    "val_acc = hist.history['val_accuracy']\n",
    "loss = hist.history['loss']\n",
    "val_loss = hist.history['val_loss']\n",
    "\n",
    "epochs = range(1, len(acc)+1)\n",
    "\n",
    "plt.plot(epochs, acc, 'b', label = 'Train Accuracy')\n",
    "plt.plot(epochs, val_acc, 'r', label = 'Test Accuracy')\n",
    "plt.legend()\n",
    "plt.figure()\n",
    "\n",
    "plt.plot(epochs, loss, 'b', label = 'Train Loss')\n",
    "plt.plot(epochs, val_loss, 'r', label = 'Test Loss')\n",
    "plt.legend()\n",
    "plt.show()"
   ]
  },
  {
   "cell_type": "code",
   "execution_count": null,
   "id": "a9e9165e-cfdf-466d-8ba8-69e3cc54bf37",
   "metadata": {},
   "outputs": [],
   "source": []
  }
 ],
 "metadata": {
  "kernelspec": {
   "display_name": "Python 3 (ipykernel)",
   "language": "python",
   "name": "python3"
  },
  "language_info": {
   "codemirror_mode": {
    "name": "ipython",
    "version": 3
   },
   "file_extension": ".py",
   "mimetype": "text/x-python",
   "name": "python",
   "nbconvert_exporter": "python",
   "pygments_lexer": "ipython3",
   "version": "3.10.2"
  }
 },
 "nbformat": 4,
 "nbformat_minor": 5
}
